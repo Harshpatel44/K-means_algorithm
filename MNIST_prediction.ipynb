{
  "nbformat": 4,
  "nbformat_minor": 0,
  "metadata": {
    "colab": {
      "name": "MNIST_prediction.ipynb",
      "provenance": [],
      "machine_shape": "hm",
      "authorship_tag": "ABX9TyOT6GAPZe7uT15qMC30GKoo",
      "include_colab_link": true
    },
    "kernelspec": {
      "name": "python3",
      "display_name": "Python 3"
    }
  },
  "cells": [
    {
      "cell_type": "markdown",
      "metadata": {
        "id": "view-in-github",
        "colab_type": "text"
      },
      "source": [
        "<a href=\"https://colab.research.google.com/github/Harshpatel44/MNIST-dataset/blob/master/MNIST_prediction.ipynb\" target=\"_parent\"><img src=\"https://colab.research.google.com/assets/colab-badge.svg\" alt=\"Open In Colab\"/></a>"
      ]
    },
    {
      "cell_type": "code",
      "metadata": {
        "id": "lf8mlZBtpPph",
        "colab_type": "code",
        "colab": {}
      },
      "source": [
        "!pip install -U -q PyDrive\n",
        "from pydrive.auth import GoogleAuth\n",
        "from pydrive.drive import GoogleDrive\n",
        "from google.colab import auth\n",
        "from oauth2client.client import GoogleCredentials\n",
        "# Authenticate and create the PyDrive client.\n",
        "auth.authenticate_user()\n",
        "gauth = GoogleAuth()\n",
        "gauth.credentials = GoogleCredentials.get_application_default()\n",
        "drive = GoogleDrive(gauth)"
      ],
      "execution_count": 0,
      "outputs": []
    },
    {
      "cell_type": "code",
      "metadata": {
        "id": "vYlfh5GP5P00",
        "colab_type": "code",
        "outputId": "0ca2d96d-e6ae-4ef1-fa7a-f3695b807d89",
        "colab": {
          "base_uri": "https://localhost:8080/",
          "height": 34
        }
      },
      "source": [
        "a = [1,2,3,4]\n",
        "b = [5,6,3,2]\n",
        "count=0\n",
        "print(set(a) & set(b))\n"
      ],
      "execution_count": 0,
      "outputs": [
        {
          "output_type": "stream",
          "text": [
            "{2, 3}\n"
          ],
          "name": "stdout"
        }
      ]
    },
    {
      "cell_type": "markdown",
      "metadata": {
        "id": "7QeMpfDgo9fS",
        "colab_type": "text"
      },
      "source": [
        "Second version of the code where there is only 1 for loop"
      ]
    },
    {
      "cell_type": "code",
      "metadata": {
        "id": "NWyp-ovinVqN",
        "colab_type": "code",
        "colab": {
          "base_uri": "https://localhost:8080/",
          "height": 51
        },
        "outputId": "c9538416-e665-4691-ffbd-084f2219f9ed"
      },
      "source": [
        "import numpy as np\n",
        "import time\n",
        "import threading\n",
        "import pickle\n",
        "import matplotlib.pyplot as plt\n",
        "\n",
        "#from google.colab import files\n",
        "#uploaded = files.upload()\n",
        "downloaded = drive.CreateFile({'id':'1PzGPanqXSdwsXebqaKbO7uaNQidNjsOK'}) \n",
        "downloaded.GetContentFile('mnist_train.csv')  \n",
        "\n",
        "downloaded2 = drive.CreateFile({'id':'1i4ezuhBEc_VBEWnJ9WS7wQLGP-n-wYOL'}) \n",
        "downloaded.GetContentFile('mnist_test.csv')\n",
        "\n",
        "def data_creation():\n",
        "    X1, X2 = np.mgrid[-1.5:1.5:0.1, -1.5:1.5:0.1]\n",
        "    X = np.array([X1.flatten(), X2.flatten()]).T\n",
        "    y = np.zeros((X.shape[0]), dtype='int32')\n",
        "\n",
        "    # generating classes\n",
        "    for i in range(0, X.shape[0]):\n",
        "        if (np.linalg.norm([X[i][0], X[i][1]], 2) <= 1):\n",
        "            y[i] = 1\n",
        "        else:\n",
        "            y[i] = 2\n",
        "\n",
        "    #plotting\n",
        "    plt.scatter(X[:, 0], X[:, 1], c=y)\n",
        "    plt.show()\n",
        "    return X,y\n",
        "\n",
        "#X,y=data_creation()\n",
        "\n",
        "def data_creation():\n",
        "    X1, X2 = np.mgrid[-1.5:1.5:0.1, -1.5:1.5:0.1]\n",
        "    X = np.array([X1.flatten(), X2.flatten()]).T\n",
        "    y = np.zeros((X.shape[0]), dtype='int32')\n",
        "\n",
        "    # generating classes\n",
        "    for i in range(0, X.shape[0]):\n",
        "        if (np.linalg.norm([X[i][0], X[i][1]], 2) <= 1):\n",
        "            y[i] = 1\n",
        "        else:\n",
        "            y[i] = 2\n",
        "    return X,y\n",
        "\n",
        "X,y=data_creation()\n",
        "\n",
        "class KNN:\n",
        "    def __init__(self, k, num_classes):\n",
        "        self.num_classes = num_classes\n",
        "        self.k = k\n",
        "        self.parameters = None\n",
        "\n",
        "    def train(self, training_data, training_labels):\n",
        "        \"\"\"\n",
        "        Train the classifier using the training data and training labels.\n",
        "        Store whatever you think is neccessary in self.parameters.\n",
        "        \"\"\"\n",
        "\n",
        "        self.X=np.array(training_data,dtype='float16')\n",
        "        self.y= training_labels\n",
        "        self.parameters = None\n",
        "        pass\n",
        "\n",
        "    def process(self,data,eucli,count):\n",
        "        # creating an array to store whole matrix, first value is inserted, which will be deleted later\n",
        "\n",
        "        e = np.linalg.norm(eucli[:, :-1] - data, 2, axis=1)\n",
        "        e = e.reshape(e.shape[0], 1)\n",
        "\n",
        "        eucli = np.append(eucli, e, axis=1)\n",
        "\n",
        "        # sorting with respect to euclidian distances and taking only kth neighbours\n",
        "        eucli = eucli[eucli[:, -1].argsort()][:self.k]\n",
        "\n",
        "        # finding number of values with class_1 and class_2\n",
        "        unique, counts = np.unique(eucli[:, -2], return_counts=True)\n",
        "        count_dict = dict(zip(unique, counts))\n",
        "        #print('number',int(max(count_dict, key=count_dict.get)))\n",
        "        self.predic_list.append([int(max(count_dict, key=count_dict.get)),count])\n",
        "        return\n",
        "\n",
        "    def predict(self, data):\n",
        "        self.predic_list=[]\n",
        "        \"\"\"\n",
        "        Make use of the trained parameters to predict the class.\n",
        "        Try using np.lingalg.norm() to compute distances.\n",
        "        Input should be a LIST of d-dimensional points.\n",
        "        The return value should be a LIST of scalars between 1 and num_classes,\n",
        "        indicating for each input point how it is classified.\n",
        "        \"\"\"\n",
        "        threads=[]\n",
        "        eucli = np.array((self.X), dtype=\"float16\")\n",
        "        eucli = np.append(eucli, self.y.reshape(self.y.shape[0], 1), axis=1)\n",
        "\n",
        "        count=0\n",
        "        for k in np.array(data,dtype='int16'):\n",
        "            count+=1\n",
        "            t=threading.Thread(target=KNN.process ,args=(self,k,eucli,count))\n",
        "            threads.append(t)\n",
        "            t.start()\n",
        "\n",
        "        for t in threads:\n",
        "            t.join()\n",
        "        return self.predic_list\n",
        "\n",
        "    def accuracy(self, data, labels):\n",
        "        \"\"\"\n",
        "        Returns the proportion of correct classifications computed over data.\n",
        "        \"\"\"\n",
        "        count=0\n",
        "        predic_list=self.predict(data)\n",
        "        predic_list.sort(key = lambda x: x[1])\n",
        "        for i,j in zip(predic_list,labels):\n",
        "            if(i[0]==j):\n",
        "                count+=1\n",
        "        return count/len(labels)\n",
        "\n",
        "\n",
        "import csv\n",
        "\n",
        "#reading the file\n",
        "f1 = open ('mnist_train.csv','r')\n",
        "train=list(csv.reader(f1,delimiter=','))\n",
        "X=np.array(train,dtype=\"int16\")\n",
        "y = X[:,0]\n",
        "\n",
        "f2 = open ('mnist_test.csv','r')\n",
        "test=list(csv.reader(f2,delimiter=','))\n",
        "val_X=np.array(test,dtype=\"int16\")\n",
        "\n",
        "\n",
        "# run method creates KNN class, train and predict the data.\n",
        "def run():\n",
        "    start = time.time()\n",
        "    classifier=KNN_implementation.KNN(k=1,num_classes=10)\n",
        "    classifier.train(X[:,1:],y[:])\n",
        "    #predictions=classifier.predict(X[2600:2620,1:])\n",
        "    #print(predictions)\n",
        "    #print(y[2600:2620])\n",
        "    acc=classifier.accuracy(val_X[:,1:],y[:])\n",
        "    print(acc)\n",
        "    end = time.time()\n",
        "    print(end-start)\n",
        "#run()\n",
        "\n",
        "def k_find():\n",
        "    list=[]\n",
        "    for i in range(1,2):\n",
        "        start = time.time()\n",
        "        classifier=KNN(k=i,num_classes=10)\n",
        "        classifier.train(X[1:10000,1:],y[1:10000])\n",
        "        #print(X[3:7,1:])\n",
        "        #predictions=classifier.predict(X[501:510,1:])\n",
        "        #print(predictions)\n",
        "        #print(y[501:510])\n",
        "        acc=classifier.accuracy(X[10001:12000,1:],y[10001:12000])\n",
        "        end = time.time()\n",
        "        print(acc,end-start)\n",
        "        list.append([i,acc,end-start])\n",
        "    print(list)\n",
        "\n",
        "    f = open ('k_values.pickle','wb')\n",
        "    pickle.dump(list,f)\n",
        "    f.close()\n",
        "\n",
        "k_find()"
      ],
      "execution_count": 10,
      "outputs": [
        {
          "output_type": "stream",
          "text": [
            "0.9484742371185593 37.52729272842407\n",
            "[[1, 0.9484742371185593, 37.52729272842407]]\n"
          ],
          "name": "stdout"
        }
      ]
    },
    {
      "cell_type": "markdown",
      "metadata": {
        "id": "DaCeIBmgpHWJ",
        "colab_type": "text"
      },
      "source": [
        "using SKlearn library to compare the output and accuracy\n"
      ]
    },
    {
      "cell_type": "code",
      "metadata": {
        "id": "zy-GrdYnV_nZ",
        "colab_type": "code",
        "outputId": "91356890-312b-4858-dfe1-f841c5694434",
        "colab": {
          "base_uri": "https://localhost:8080/",
          "height": 34
        }
      },
      "source": [
        "from sklearn.neighbors import KNeighborsClassifier\n",
        "import numpy as np\n",
        "\n",
        "import csv\n",
        "import time\n",
        "\n",
        "downloaded = drive.CreateFile({'id':'1PzGPanqXSdwsXebqaKbO7uaNQidNjsOK'}) \n",
        "downloaded.GetContentFile('mnist_train.csv')  \n",
        "\n",
        "f = open ('mnist_train.csv','r')\n",
        "wines=list(csv.reader(f,delimiter=','))\n",
        "X=np.array(wines,dtype=\"int16\")\n",
        "y = X[:,0]\n",
        "\n",
        "c_time=time.time()\n",
        "neigh = KNeighborsClassifier(n_neighbors = 1)\n",
        "neigh.fit(X[1:10000,1:],y[1:10000])\n",
        "#neigh.predict(X[501:510,1:])\n",
        "\n",
        "x=neigh.score(X[10001:12000,1:],y[10001:12000])\n",
        "f_time=time.time()\n",
        "print(x,f_time-c_time)"
      ],
      "execution_count": 3,
      "outputs": [
        {
          "output_type": "stream",
          "text": [
            "0.9484742371185593 30.261850118637085\n"
          ],
          "name": "stdout"
        }
      ]
    },
    {
      "cell_type": "code",
      "metadata": {
        "id": "Hq4vdOIipNKV",
        "colab_type": "code",
        "outputId": "1b2595e6-e2cd-4902-82ba-a5b84ac77303",
        "colab": {
          "base_uri": "https://localhost:8080/",
          "height": 51
        }
      },
      "source": [
        "import numpy as np\n",
        "import threading\n",
        "import matplotlib.pyplot as plt\n",
        "\n",
        "def data_creation():\n",
        "    X1, X2 = np.mgrid[-1.5:1.5:0.1, -1.5:1.5:0.1]\n",
        "    X = np.array([X1.flatten(), X2.flatten()]).T\n",
        "    y = np.zeros((X.shape[0]), dtype='int32')\n",
        "\n",
        "    # generating classes\n",
        "    for i in range(0, X.shape[0]):\n",
        "        if (np.linalg.norm([X[i][0], X[i][1]], 2) <= 1):\n",
        "            y[i] = 1\n",
        "        else:\n",
        "            y[i] = 2\n",
        "\n",
        "    #plotting\n",
        "    #plt.scatter(X[:, 0], X[:, 1], c=y)\n",
        "    #plt.show()\n",
        "    return X,y\n",
        "\n",
        "X,y=data_creation()\n",
        "\n",
        "class KNN:\n",
        "    def __init__(self, k, num_classes):\n",
        "        self.num_classes = num_classes\n",
        "        self.k = k\n",
        "        self.predic_list = []\n",
        "        self.parameters = None\n",
        "\n",
        "    def train(self, training_data, training_labels):\n",
        "        \"\"\"\n",
        "        Train the classifier using the training data and training labels.\n",
        "        Store whatever you think is neccessary in self.parameters.\n",
        "        \"\"\"\n",
        "\n",
        "        self.X=np.array(training_data,dtype='float64')\n",
        "        self.y= training_labels\n",
        "        self.parameters = None\n",
        "        pass\n",
        "\n",
        "    def process(self,data):\n",
        "        # creating an array to store whole matrix, first value is inserted, which will be deleted later\n",
        "        eucli = np.array((self.X), dtype=\"float16\")\n",
        "\n",
        "        # self.y=self.y.reshape(self.y.shape[0],1)\n",
        "\n",
        "        eucli = np.append(eucli, self.y.reshape(self.y.shape[0], 1), axis=1)\n",
        "\n",
        "        e = np.linalg.norm(eucli[:, :-1] - data, 2, axis=1)\n",
        "        e = e.reshape(e.shape[0], 1)\n",
        "\n",
        "        eucli = np.append(eucli, e, axis=1)\n",
        "\n",
        "        # removing the first value, inserted during initialization\n",
        "\n",
        "        # sorting with respect to euclidian distances and taking only kth neighbours\n",
        "        eucli = eucli[eucli[:, -1].argsort()][:self.k]\n",
        "\n",
        "        # finding number of values with class_1 and class_2\n",
        "        unique, counts = np.unique(eucli[:, -2], return_counts=True)\n",
        "        count_dict = dict(zip(unique, counts))\n",
        "        self.predic_list.append(int(max(count_dict, key=count_dict.get)))\n",
        "        return\n",
        "    def predict(self, data):\n",
        "        \"\"\"\n",
        "        Make use of the trained parameters to predict the class.\n",
        "        Try using np.lingalg.norm() to compute distances.\n",
        "        Input should be a LIST of d-dimensional points.\n",
        "        The return value should be a LIST of scalars between 1 and num_classes,\n",
        "        indicating for each input point how it is classified.\n",
        "        \"\"\"\n",
        "        threads=[]\n",
        "        for k in np.array(data,dtype='int16'):\n",
        "            t=threading.Thread(target=KNN.process ,args=(self,k,))\n",
        "            threads.append(t)\n",
        "            t.start()\n",
        "\n",
        "        for t in threads:\n",
        "            t.join()\n",
        "\n",
        "        print('ended')\n",
        "        return self.predic_list\n",
        "\n",
        "    def accuracy(self, data, labels):\n",
        "        \"\"\"\n",
        "        Returns the proportion of correct classifications computed over data.\n",
        "        \"\"\"\n",
        "        predic_list=self.predict(data)\n",
        "        count=0\n",
        "\n",
        "        for i,j in zip(predic_list,labels):\n",
        "            if(i==j):\n",
        "                count+=1\n",
        "        return count/len(labels)\n",
        "\n",
        "import csv\n",
        "import numpy as np\n",
        "\n",
        "f = open ('mnist_train.csv','r')\n",
        "wines=list(csv.reader(f,delimiter=','))\n",
        "X=np.array(wines,dtype=\"int16\")\n",
        "y = X[:,0]\n",
        "#print(y[0:10])\n",
        "\n",
        "c_time=time.time()\n",
        "classifier=KNN(k=5,num_classes=10)\n",
        "classifier.train(X[1:1000,1:],y[1:1000])\n",
        "#predictions=classifier.predict(X[0:10,1:])\n",
        "#print(predictions)\n",
        "#print(X[50001:50010],y[50001:50010])\n",
        "\n",
        "acc=classifier.accuracy(X[1001:1100,1:],y[1001:1100])\n",
        "f_time=time.time()\n",
        "print(acc,f_time-c_time)\n"
      ],
      "execution_count": 0,
      "outputs": [
        {
          "output_type": "stream",
          "text": [
            "ended\n",
            "0.5151515151515151 0.9671564102172852\n"
          ],
          "name": "stdout"
        }
      ]
    },
    {
      "cell_type": "code",
      "metadata": {
        "id": "t1ivRWvirzlP",
        "colab_type": "code",
        "colab": {}
      },
      "source": [
        "a = []\n",
        "while(1):\n",
        "    a.append(‘1’)"
      ],
      "execution_count": 0,
      "outputs": []
    },
    {
      "cell_type": "code",
      "metadata": {
        "id": "taw55xBZr0Tb",
        "colab_type": "code",
        "colab": {}
      },
      "source": [
        ""
      ],
      "execution_count": 0,
      "outputs": []
    }
  ]
}